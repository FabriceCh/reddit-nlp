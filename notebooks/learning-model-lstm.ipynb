{
 "cells": [
  {
   "cell_type": "markdown",
   "metadata": {},
   "source": [
    "# Deep learning model using lstms after embedding"
   ]
  },
  {
   "cell_type": "code",
   "execution_count": 35,
   "metadata": {},
   "outputs": [],
   "source": [
    "#can be removed\n",
    "from jupyterthemes import jtplot\n",
    "jtplot.style()"
   ]
  },
  {
   "cell_type": "markdown",
   "metadata": {},
   "source": [
    "First, let's load the data"
   ]
  },
  {
   "cell_type": "code",
   "execution_count": 2,
   "metadata": {},
   "outputs": [],
   "source": [
    "import pandas as pd"
   ]
  },
  {
   "cell_type": "code",
   "execution_count": 6,
   "metadata": {},
   "outputs": [
    {
     "data": {
      "text/html": [
       "<div>\n",
       "<style scoped>\n",
       "    .dataframe tbody tr th:only-of-type {\n",
       "        vertical-align: middle;\n",
       "    }\n",
       "\n",
       "    .dataframe tbody tr th {\n",
       "        vertical-align: top;\n",
       "    }\n",
       "\n",
       "    .dataframe thead th {\n",
       "        text-align: right;\n",
       "    }\n",
       "</style>\n",
       "<table border=\"1\" class=\"dataframe\">\n",
       "  <thead>\n",
       "    <tr style=\"text-align: right;\">\n",
       "      <th></th>\n",
       "      <th>text</th>\n",
       "      <th>subreddit</th>\n",
       "      <th>label</th>\n",
       "    </tr>\n",
       "  </thead>\n",
       "  <tbody>\n",
       "    <tr>\n",
       "      <td>0</td>\n",
       "      <td>that sounds awesome i ll check it out tonight ...</td>\n",
       "      <td>startrek</td>\n",
       "      <td>television</td>\n",
       "    </tr>\n",
       "    <tr>\n",
       "      <td>1</td>\n",
       "      <td>star trek tos  50th anniversary tribute game n...</td>\n",
       "      <td>startrek</td>\n",
       "      <td>television</td>\n",
       "    </tr>\n",
       "    <tr>\n",
       "      <td>2</td>\n",
       "      <td>would nt spock have found it a bit  insulting ...</td>\n",
       "      <td>startrek</td>\n",
       "      <td>television</td>\n",
       "    </tr>\n",
       "    <tr>\n",
       "      <td>3</td>\n",
       "      <td>spock was half human and had worked for some t...</td>\n",
       "      <td>startrek</td>\n",
       "      <td>television</td>\n",
       "    </tr>\n",
       "    <tr>\n",
       "      <td>4</td>\n",
       "      <td>i got a notice from audible this afternoon tha...</td>\n",
       "      <td>startrek</td>\n",
       "      <td>television</td>\n",
       "    </tr>\n",
       "    <tr>\n",
       "      <td>...</td>\n",
       "      <td>...</td>\n",
       "      <td>...</td>\n",
       "      <td>...</td>\n",
       "    </tr>\n",
       "    <tr>\n",
       "      <td>28740</td>\n",
       "      <td>regular model   https  wikiteamfortresscomwim...</td>\n",
       "      <td>tf2</td>\n",
       "      <td>gaming</td>\n",
       "    </tr>\n",
       "    <tr>\n",
       "      <td>28741</td>\n",
       "      <td>my friend gave me a strange killstreak version...</td>\n",
       "      <td>tf2</td>\n",
       "      <td>gaming</td>\n",
       "    </tr>\n",
       "    <tr>\n",
       "      <td>28742</td>\n",
       "      <td>so i m pretty sad to know that the bottle does...</td>\n",
       "      <td>tf2</td>\n",
       "      <td>gaming</td>\n",
       "    </tr>\n",
       "    <tr>\n",
       "      <td>28743</td>\n",
       "      <td>fun fact  if you die with the neon annihilator...</td>\n",
       "      <td>tf2</td>\n",
       "      <td>gaming</td>\n",
       "    </tr>\n",
       "    <tr>\n",
       "      <td>28744</td>\n",
       "      <td>this weapon seriously needs a buff to make it ...</td>\n",
       "      <td>tf2</td>\n",
       "      <td>gaming</td>\n",
       "    </tr>\n",
       "  </tbody>\n",
       "</table>\n",
       "<p>28745 rows × 3 columns</p>\n",
       "</div>"
      ],
      "text/plain": [
       "                                                    text subreddit       label\n",
       "0      that sounds awesome i ll check it out tonight ...  startrek  television\n",
       "1      star trek tos  50th anniversary tribute game n...  startrek  television\n",
       "2      would nt spock have found it a bit  insulting ...  startrek  television\n",
       "3      spock was half human and had worked for some t...  startrek  television\n",
       "4      i got a notice from audible this afternoon tha...  startrek  television\n",
       "...                                                  ...       ...         ...\n",
       "28740   regular model   https  wikiteamfortresscomwim...       tf2      gaming\n",
       "28741  my friend gave me a strange killstreak version...       tf2      gaming\n",
       "28742  so i m pretty sad to know that the bottle does...       tf2      gaming\n",
       "28743  fun fact  if you die with the neon annihilator...       tf2      gaming\n",
       "28744  this weapon seriously needs a buff to make it ...       tf2      gaming\n",
       "\n",
       "[28745 rows x 3 columns]"
      ]
     },
     "execution_count": 6,
     "metadata": {},
     "output_type": "execute_result"
    }
   ],
   "source": [
    "df = pd.read_csv(\"../data/cleaned_data.csv\")\n",
    "df"
   ]
  },
  {
   "cell_type": "code",
   "execution_count": 19,
   "metadata": {},
   "outputs": [],
   "source": [
    "data = df[\"text\"].values\n",
    "y_data = pd.get_dummies(df[\"label\"],prefix='cat').values"
   ]
  },
  {
   "cell_type": "markdown",
   "metadata": {},
   "source": [
    "## Specific preprocessing"
   ]
  },
  {
   "cell_type": "markdown",
   "metadata": {},
   "source": [
    "1. construct dictionary\n",
    "2. replace tokens in sequences with keys from dictionary\n",
    "3. pad the sequences"
   ]
  },
  {
   "cell_type": "code",
   "execution_count": 7,
   "metadata": {},
   "outputs": [
    {
     "name": "stderr",
     "output_type": "stream",
     "text": [
      "WARNING: Logging before flag parsing goes to stderr.\n",
      "W1201 20:23:46.922636 140075216189120 __init__.py:690] \n",
      "\n",
      "  TensorFlow's `tf-nightly` package will soon be updated to TensorFlow 2.0.\n",
      "\n",
      "  Please upgrade your code to TensorFlow 2.0:\n",
      "    * https://www.tensorflow.org/beta/guide/migration_guide\n",
      "\n",
      "  Or install the latest stable TensorFlow 1.X release:\n",
      "    * `pip install -U \"tensorflow==1.*\"`\n",
      "\n",
      "  Otherwise your code may be broken by the change.\n",
      "\n",
      "  \n"
     ]
    }
   ],
   "source": [
    "from __future__ import absolute_import, division, print_function, unicode_literals\n",
    "\n",
    "import tensorflow as tf\n",
    "from tensorflow import keras"
   ]
  },
  {
   "cell_type": "code",
   "execution_count": 9,
   "metadata": {},
   "outputs": [],
   "source": [
    "from nltk.util import ngrams\n",
    "from collections import defaultdict\n",
    "from os import linesep\n",
    "\n",
    "def build_voc(corpus):\n",
    "    \n",
    "    word_dict = {}\n",
    "\n",
    "    for document in corpus:\n",
    "        for word in document:\n",
    "            if word not in word_dict:\n",
    "                word_dict[word] = len(word_dict) + 1 # 0 = padding\n",
    "                \n",
    "    with open(\"./vocab.txt\", \"w\") as f:\n",
    "        for word in word_dict.keys():\n",
    "            f.write(word + \"\\n\")\n",
    "        \n",
    "    return word_dict"
   ]
  },
  {
   "cell_type": "code",
   "execution_count": 10,
   "metadata": {},
   "outputs": [],
   "source": [
    "def split_items(list_of_strings):\n",
    "    stripped_strings = []\n",
    "    for string in list_of_strings:\n",
    "        stripped_strings.append(string.split(' '))\n",
    "    return stripped_strings"
   ]
  },
  {
   "cell_type": "code",
   "execution_count": 11,
   "metadata": {},
   "outputs": [],
   "source": [
    "splited_data = split_items(data)"
   ]
  },
  {
   "cell_type": "code",
   "execution_count": 12,
   "metadata": {},
   "outputs": [],
   "source": [
    "vocab = build_voc(splited_data)"
   ]
  },
  {
   "cell_type": "code",
   "execution_count": 14,
   "metadata": {},
   "outputs": [
    {
     "data": {
      "text/plain": [
       "54629"
      ]
     },
     "execution_count": 14,
     "metadata": {},
     "output_type": "execute_result"
    }
   ],
   "source": [
    "vocab_size = len(vocab)\n",
    "vocab_size"
   ]
  },
  {
   "cell_type": "code",
   "execution_count": 15,
   "metadata": {},
   "outputs": [],
   "source": [
    "def get_max_sentence_length(corpus):\n",
    "    return max([len(sentence) for sentence in corpus])"
   ]
  },
  {
   "cell_type": "code",
   "execution_count": 16,
   "metadata": {},
   "outputs": [],
   "source": [
    "def get_number_vectors(X):\n",
    "    \n",
    "    return [[vocab[word] for word in sentence] for sentence in X]"
   ]
  },
  {
   "cell_type": "code",
   "execution_count": 17,
   "metadata": {},
   "outputs": [
    {
     "name": "stderr",
     "output_type": "stream",
     "text": [
      "Using TensorFlow backend.\n"
     ]
    },
    {
     "name": "stdout",
     "output_type": "stream",
     "text": [
      "max sentence length:  10000\n"
     ]
    }
   ],
   "source": [
    "from keras.preprocessing.text import Tokenizer, one_hot\n",
    "from keras.preprocessing.sequence import pad_sequences\n",
    "\n",
    "max_sentence_length = get_max_sentence_length(splited_data)\n",
    "print(\"max sentence length: \", max_sentence_length)\n",
    "\n",
    "def get_padded_sequences(X):\n",
    "    return pad_sequences(sequences=get_number_vectors(X),\n",
    "                         padding='post',\n",
    "                         maxlen=max_sentence_length)\n",
    "\n",
    "def get_padded_sequences_max(X, max_len):\n",
    "    return pad_sequences(sequences=get_number_vectors(X),\n",
    "                         padding='post',\n",
    "                         maxlen=max_len)\n",
    "\n",
    "padded_data = get_padded_sequences(splited_data)"
   ]
  },
  {
   "cell_type": "code",
   "execution_count": 18,
   "metadata": {},
   "outputs": [],
   "source": [
    "# fix max length of sequences\n",
    "padded_data = get_padded_sequences_max(splited_data, 100)"
   ]
  },
  {
   "cell_type": "code",
   "execution_count": 42,
   "metadata": {},
   "outputs": [
    {
     "data": {
      "text/plain": [
       "array([[   1,    2,    3, ...,    0,    0,    0],\n",
       "       [  13,   17,   80, ...,   85,  124,   17],\n",
       "       [ 125,  126,  127, ...,    0,    0,    0],\n",
       "       ...,\n",
       "       [  14,    4,  166, ...,    0,    0,    0],\n",
       "       [ 276,  853,   17, ...,    0,    0,    0],\n",
       "       [ 171, 5259, 1900, ...,    0,    0,    0]], dtype=int32)"
      ]
     },
     "execution_count": 42,
     "metadata": {},
     "output_type": "execute_result"
    }
   ],
   "source": [
    "padded_data"
   ]
  },
  {
   "cell_type": "markdown",
   "metadata": {},
   "source": [
    "## Split data into train, validation and test sets"
   ]
  },
  {
   "cell_type": "code",
   "execution_count": 22,
   "metadata": {},
   "outputs": [],
   "source": [
    "from sklearn.model_selection import train_test_split\n",
    "X_train, X_test, y_train, y_test = train_test_split(padded_data, y_data, test_size=0.3, random_state=32)\n",
    "partial_x_train, x_validation, partial_y_train, y_validation = train_test_split(X_train, y_train, test_size=0.3, random_state=32)"
   ]
  },
  {
   "cell_type": "markdown",
   "metadata": {},
   "source": [
    "## NN model"
   ]
  },
  {
   "cell_type": "code",
   "execution_count": 91,
   "metadata": {},
   "outputs": [
    {
     "name": "stdout",
     "output_type": "stream",
     "text": [
      "Model: \"sequential_20\"\n",
      "_________________________________________________________________\n",
      "Layer (type)                 Output Shape              Param #   \n",
      "=================================================================\n",
      "embedding_21 (Embedding)     (None, None, 32)          1748160   \n",
      "_________________________________________________________________\n",
      "lstm_33 (LSTM)               (None, None, 32)          8320      \n",
      "_________________________________________________________________\n",
      "lstm_34 (LSTM)               (None, 32)                8320      \n",
      "_________________________________________________________________\n",
      "dense_28 (Dense)             (None, 7)                 231       \n",
      "=================================================================\n",
      "Total params: 1,765,031\n",
      "Trainable params: 1,765,031\n",
      "Non-trainable params: 0\n",
      "_________________________________________________________________\n"
     ]
    }
   ],
   "source": [
    "\n",
    "model = keras.Sequential()\n",
    "model.add(keras.layers.Embedding(vocab_size + 1, 32))\n",
    "#model.add(keras.layers.GlobalAveragePooling1D())\n",
    "model.add(keras.layers.LSTM(32, return_sequences=True))\n",
    "#model.add(keras.layers.LSTM(32, return_sequences=True))\n",
    "#model.add(keras.layers.LSTM(16, dropout=0.2, recurrent_dropout=0.2, return_sequences=True))\n",
    "model.add(keras.layers.LSTM(32))\n",
    "#model.add(keras.layers.Dense(8, activation=tf.nn.relu))\n",
    "model.add(keras.layers.Dense(7, activation=tf.nn.sigmoid))\n",
    "model.summary()"
   ]
  },
  {
   "cell_type": "code",
   "execution_count": 92,
   "metadata": {},
   "outputs": [
    {
     "name": "stdout",
     "output_type": "stream",
     "text": [
      "Train on 14084 samples, validate on 6037 samples\n",
      "Epoch 1/30\n",
      "14084/14084 [==============================] - 9s 639us/sample - loss: 1.9334 - acc: 0.2341 - val_loss: 1.9115 - val_acc: 0.2281\n",
      "Epoch 2/30\n",
      "14084/14084 [==============================] - 5s 335us/sample - loss: 1.8885 - acc: 0.2336 - val_loss: 1.8764 - val_acc: 0.2281\n",
      "Epoch 3/30\n",
      "14084/14084 [==============================] - 5s 331us/sample - loss: 1.8731 - acc: 0.2336 - val_loss: 1.8707 - val_acc: 0.2281\n",
      "Epoch 4/30\n",
      "14084/14084 [==============================] - 5s 335us/sample - loss: 1.8700 - acc: 0.2336 - val_loss: 1.8694 - val_acc: 0.2281\n",
      "Epoch 5/30\n",
      "14084/14084 [==============================] - 5s 332us/sample - loss: 1.8686 - acc: 0.2336 - val_loss: 1.8687 - val_acc: 0.2281\n",
      "Epoch 6/30\n",
      "14084/14084 [==============================] - 5s 325us/sample - loss: 1.8670 - acc: 0.2336 - val_loss: 1.8678 - val_acc: 0.2281\n",
      "Epoch 7/30\n",
      "14084/14084 [==============================] - 5s 331us/sample - loss: 1.8643 - acc: 0.2336 - val_loss: 1.8660 - val_acc: 0.2281\n",
      "Epoch 8/30\n",
      "14084/14084 [==============================] - 5s 329us/sample - loss: 1.8595 - acc: 0.2336 - val_loss: 1.8628 - val_acc: 0.2281\n",
      "Epoch 9/30\n",
      "14084/14084 [==============================] - 5s 328us/sample - loss: 1.8528 - acc: 0.2355 - val_loss: 1.8560 - val_acc: 0.2319\n",
      "Epoch 10/30\n",
      "14084/14084 [==============================] - 5s 336us/sample - loss: 1.8502 - acc: 0.2443 - val_loss: 1.8596 - val_acc: 0.2346\n",
      "Epoch 11/30\n",
      "14084/14084 [==============================] - 5s 330us/sample - loss: 1.8440 - acc: 0.2433 - val_loss: 1.8555 - val_acc: 0.2359\n",
      "Epoch 12/30\n",
      "14084/14084 [==============================] - 5s 327us/sample - loss: 1.8358 - acc: 0.2600 - val_loss: 1.8519 - val_acc: 0.2495\n",
      "Epoch 13/30\n",
      "14084/14084 [==============================] - 5s 332us/sample - loss: 1.8264 - acc: 0.2822 - val_loss: 1.8501 - val_acc: 0.2461\n",
      "Epoch 14/30\n",
      "14084/14084 [==============================] - 5s 325us/sample - loss: 1.8154 - acc: 0.2833 - val_loss: 1.8413 - val_acc: 0.2554\n",
      "Epoch 15/30\n",
      "14084/14084 [==============================] - 5s 328us/sample - loss: 1.7927 - acc: 0.2915 - val_loss: 1.8342 - val_acc: 0.2604\n",
      "Epoch 16/30\n",
      "14084/14084 [==============================] - 5s 327us/sample - loss: 1.7681 - acc: 0.2904 - val_loss: 1.8278 - val_acc: 0.2644\n",
      "Epoch 17/30\n",
      "14084/14084 [==============================] - 5s 331us/sample - loss: 1.7331 - acc: 0.3153 - val_loss: 1.8158 - val_acc: 0.2881\n",
      "Epoch 18/30\n",
      "14084/14084 [==============================] - 5s 327us/sample - loss: 1.6974 - acc: 0.3328 - val_loss: 1.8115 - val_acc: 0.2884\n",
      "Epoch 19/30\n",
      "14084/14084 [==============================] - 5s 333us/sample - loss: 1.6529 - acc: 0.3495 - val_loss: 1.8162 - val_acc: 0.3016\n",
      "Epoch 20/30\n",
      "14084/14084 [==============================] - 5s 339us/sample - loss: 1.5814 - acc: 0.3706 - val_loss: 1.7591 - val_acc: 0.3262\n",
      "Epoch 21/30\n",
      "14084/14084 [==============================] - 5s 330us/sample - loss: 1.5100 - acc: 0.4243 - val_loss: 1.7541 - val_acc: 0.3666\n",
      "Epoch 22/30\n",
      "14084/14084 [==============================] - 5s 338us/sample - loss: 1.4881 - acc: 0.4399 - val_loss: 1.7139 - val_acc: 0.3763\n",
      "Epoch 23/30\n",
      "14084/14084 [==============================] - 5s 330us/sample - loss: 1.4162 - acc: 0.4602 - val_loss: 1.7245 - val_acc: 0.3734\n",
      "Epoch 24/30\n",
      "14084/14084 [==============================] - 5s 326us/sample - loss: 1.3676 - acc: 0.4622 - val_loss: 1.6511 - val_acc: 0.3704\n",
      "Epoch 25/30\n",
      "14084/14084 [==============================] - 5s 333us/sample - loss: 1.3075 - acc: 0.5022 - val_loss: 1.6680 - val_acc: 0.3835\n",
      "Epoch 26/30\n",
      "14084/14084 [==============================] - 5s 328us/sample - loss: 1.2535 - acc: 0.5288 - val_loss: 1.6666 - val_acc: 0.3911\n",
      "Epoch 27/30\n",
      "14084/14084 [==============================] - 5s 329us/sample - loss: 1.2052 - acc: 0.5244 - val_loss: 1.6438 - val_acc: 0.3927\n",
      "Epoch 28/30\n",
      "14084/14084 [==============================] - 5s 338us/sample - loss: 1.1639 - acc: 0.5289 - val_loss: 1.6755 - val_acc: 0.3921\n",
      "Epoch 29/30\n",
      "14084/14084 [==============================] - 5s 328us/sample - loss: 1.1203 - acc: 0.5474 - val_loss: 1.6826 - val_acc: 0.4002\n",
      "Epoch 30/30\n",
      "14084/14084 [==============================] - 5s 336us/sample - loss: 1.0839 - acc: 0.5501 - val_loss: 1.6942 - val_acc: 0.4000\n"
     ]
    }
   ],
   "source": [
    "model.compile(optimizer='adam',\n",
    "             loss='categorical_crossentropy',\n",
    "             metrics=['acc'])\n",
    "\n",
    "history = model.fit(partial_x_train,\n",
    "                   partial_y_train,\n",
    "                   epochs=30,\n",
    "                   batch_size=1024,\n",
    "                   validation_data=(x_validation, y_validation),\n",
    "                   verbose=1)"
   ]
  },
  {
   "cell_type": "code",
   "execution_count": 93,
   "metadata": {},
   "outputs": [
    {
     "name": "stdout",
     "output_type": "stream",
     "text": [
      "8624/8624 [==============================] - 7s 853us/sample - loss: 1.6489 - acc: 0.3971\n",
      "[1.6489155248277483, 0.3971475]\n"
     ]
    }
   ],
   "source": [
    "results = model.evaluate(X_test, y_test)\n",
    "print(results)"
   ]
  },
  {
   "cell_type": "markdown",
   "metadata": {},
   "source": [
    "## Visualize accuracy and loss on epochs"
   ]
  },
  {
   "cell_type": "code",
   "execution_count": 79,
   "metadata": {},
   "outputs": [],
   "source": [
    "history_dict = history.history\n",
    "history_dict.keys()\n",
    "acc = history_dict['acc']\n",
    "val_acc = history_dict['val_acc']\n",
    "loss = history_dict['loss']\n",
    "val_loss = history_dict['val_loss']\n",
    "epochs = range(1, len(acc)+1)"
   ]
  },
  {
   "cell_type": "code",
   "execution_count": 80,
   "metadata": {},
   "outputs": [
    {
     "data": {
      "image/png": "[encoded data removed]",
      "text/plain": [
       "<Figure size 460.8x403.2 with 1 Axes>"
      ]
     },
     "metadata": {},
     "output_type": "display_data"
    }
   ],
   "source": [
    "import matplotlib.pyplot as plt\n",
    "\n",
    "plt.plot(epochs, loss, 'bo', label='Training loss')\n",
    "plt.plot(epochs, val_loss, 'b', label='Validation loss')\n",
    "plt.title('Training and validation loss')\n",
    "plt.xlabel('Epochs')\n",
    "plt.ylabel('Loss')\n",
    "plt.legend()\n",
    "\n",
    "plt.show()"
   ]
  },
  {
   "cell_type": "code",
   "execution_count": 81,
   "metadata": {},
   "outputs": [
    {
     "data": {
      "image/png": "[encoded data removed]",
      "text/plain": [
       "<Figure size 460.8x403.2 with 1 Axes>"
      ]
     },
     "metadata": {},
     "output_type": "display_data"
    }
   ],
   "source": [
    "plt.clf()\n",
    "\n",
    "plt.plot(epochs, acc, 'bo', label='Training acc')\n",
    "plt.plot(epochs, val_acc, 'b', label='Validation acc')\n",
    "plt.title('Training and validation acc')\n",
    "plt.xlabel('Epochs')\n",
    "plt.ylabel('Accuracy')\n",
    "plt.legend()\n",
    "\n",
    "plt.show()"
   ]
  },
  {
   "cell_type": "code",
   "execution_count": null,
   "metadata": {},
   "outputs": [],
   "source": []
  },
  {
   "cell_type": "code",
   "execution_count": null,
   "metadata": {},
   "outputs": [],
   "source": []
  },
  {
   "cell_type": "code",
   "execution_count": null,
   "metadata": {},
   "outputs": [],
   "source": []
  }
 ],
 "metadata": {
  "kernelspec": {
   "display_name": "Python 3",
   "language": "python",
   "name": "python3"
  },
  "language_info": {
   "codemirror_mode": {
    "name": "ipython",
    "version": 3
   },
   "file_extension": ".py",
   "mimetype": "text/x-python",
   "name": "python",
   "nbconvert_exporter": "python",
   "pygments_lexer": "ipython3",
   "version": "3.7.4"
  }
 },
 "nbformat": 4,
 "nbformat_minor": 2
}
