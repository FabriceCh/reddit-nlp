{
 "cells": [
  {
   "cell_type": "markdown",
   "metadata": {},
   "source": [
    "# Projet LOG6308: Reddit recommendation\n",
    "### Équipe 10\n",
    "#### - Fabrice Charbonneau (1798064)\n",
    "#### - Armel Kemzanga Landry (1976804)"
   ]
  },
  {
   "cell_type": "markdown",
   "metadata": {},
   "source": [
    "## 1. Loader les données"
   ]
  },
  {
   "cell_type": "code",
   "execution_count": 1,
   "metadata": {},
   "outputs": [],
   "source": [
    "import pandas as pd\n",
    "import numpy as np\n",
    "import matplotlib.pyplot as plt\n",
    "from nltk.corpus import PlaintextCorpusReader\n",
    "from os import path\n",
    "import glob\n",
    "\n",
    "#can be removed\n",
    "from jupyterthemes import jtplot\n",
    "jtplot.style()"
   ]
  },
  {
   "cell_type": "code",
   "execution_count": 4,
   "metadata": {},
   "outputs": [
    {
     "name": "stderr",
     "output_type": "stream",
     "text": [
      "/usr/lib/python3.7/site-packages/ipykernel_launcher.py:11: FutureWarning: Sorting because non-concatenation axis is not aligned. A future version\n",
      "of pandas will change to not sort by default.\n",
      "\n",
      "To accept the future behavior, pass 'sort=False'.\n",
      "\n",
      "To retain the current behavior and silence the warning, pass 'sort=True'.\n",
      "\n",
      "  # This is added back by InteractiveShellApp.init_path()\n"
     ]
    }
   ],
   "source": [
    "if not path.exists(\"raw_data.csv\"):\n",
    "    data_path = \"../data/original-dataset\"\n",
    "    all_files = glob.glob(data_path + \"/*.csv\")\n",
    "    li = []\n",
    "    for filename in all_files:\n",
    "        df = pd.read_csv(filename, index_col=None, header=0)\n",
    "        # only keep x rows per file\n",
    "        df = df[0:3000]\n",
    "        li.append(df)\n",
    "\n",
    "    frame = pd.concat(li, axis=0, ignore_index=True)\n",
    "    frame.to_csv(\"../data/raw_data.csv\", index=False)"
   ]
  },
  {
   "cell_type": "code",
   "execution_count": 5,
   "metadata": {},
   "outputs": [
    {
     "name": "stderr",
     "output_type": "stream",
     "text": [
      "/usr/lib/python3.7/site-packages/IPython/core/interactiveshell.py:3058: DtypeWarning: Columns (6,8) have mixed types. Specify dtype option on import or set low_memory=False.\n",
      "  interactivity=interactivity, compiler=compiler, result=result)\n"
     ]
    },
    {
     "data": {
      "text/html": [
       "<div>\n",
       "<style scoped>\n",
       "    .dataframe tbody tr th:only-of-type {\n",
       "        vertical-align: middle;\n",
       "    }\n",
       "\n",
       "    .dataframe tbody tr th {\n",
       "        vertical-align: top;\n",
       "    }\n",
       "\n",
       "    .dataframe thead th {\n",
       "        text-align: right;\n",
       "    }\n",
       "</style>\n",
       "<table border=\"1\" class=\"dataframe\">\n",
       "  <thead>\n",
       "    <tr style=\"text-align: right;\">\n",
       "      <th></th>\n",
       "      <th>text</th>\n",
       "      <th>1</th>\n",
       "      <th>10</th>\n",
       "      <th>11</th>\n",
       "      <th>subreddit</th>\n",
       "      <th>label</th>\n",
       "      <th>4</th>\n",
       "      <th>5</th>\n",
       "      <th>6</th>\n",
       "      <th>7</th>\n",
       "      <th>8</th>\n",
       "      <th>9</th>\n",
       "      <th>Unnamed: 0</th>\n",
       "    </tr>\n",
       "  </thead>\n",
       "  <tbody>\n",
       "    <tr>\n",
       "      <td>0</td>\n",
       "      <td>NaN</td>\n",
       "      <td>466jwy</td>\n",
       "      <td>1.0</td>\n",
       "      <td>NaN</td>\n",
       "      <td>startrek</td>\n",
       "      <td>television</td>\n",
       "      <td>1455683402.0</td>\n",
       "      <td>JesseBotwin</td>\n",
       "      <td>1.0</td>\n",
       "      <td>0.0</td>\n",
       "      <td>2257.0</td>\n",
       "      <td>937.0</td>\n",
       "      <td>0</td>\n",
       "    </tr>\n",
       "    <tr>\n",
       "      <td>1</td>\n",
       "      <td>that sounds awesome i ll check it out tonight ...</td>\n",
       "      <td>d027xk0</td>\n",
       "      <td>0.0</td>\n",
       "      <td>NaN</td>\n",
       "      <td>startrek</td>\n",
       "      <td>television</td>\n",
       "      <td>1455650159.0</td>\n",
       "      <td>notheebie</td>\n",
       "      <td>1.0</td>\n",
       "      <td>0.0</td>\n",
       "      <td>307.0</td>\n",
       "      <td>26352.0</td>\n",
       "      <td>1</td>\n",
       "    </tr>\n",
       "    <tr>\n",
       "      <td>2</td>\n",
       "      <td>star trek tos  50th anniversary tribute game n...</td>\n",
       "      <td>463gry</td>\n",
       "      <td>0.0</td>\n",
       "      <td>NaN</td>\n",
       "      <td>startrek</td>\n",
       "      <td>television</td>\n",
       "      <td>1455643118.0</td>\n",
       "      <td>thisoldfart</td>\n",
       "      <td>3.0</td>\n",
       "      <td>0.0</td>\n",
       "      <td>3811.0</td>\n",
       "      <td>878.0</td>\n",
       "      <td>2</td>\n",
       "    </tr>\n",
       "    <tr>\n",
       "      <td>3</td>\n",
       "      <td>would nt spock have found it a bit  insulting ...</td>\n",
       "      <td>461kw5</td>\n",
       "      <td>0.0</td>\n",
       "      <td>NaN</td>\n",
       "      <td>startrek</td>\n",
       "      <td>television</td>\n",
       "      <td>1455611558.0</td>\n",
       "      <td>FPSD</td>\n",
       "      <td>18.0</td>\n",
       "      <td>0.0</td>\n",
       "      <td>1.0</td>\n",
       "      <td>1486.0</td>\n",
       "      <td>3</td>\n",
       "    </tr>\n",
       "    <tr>\n",
       "      <td>4</td>\n",
       "      <td>also  what is a soul</td>\n",
       "      <td>d01pqtn</td>\n",
       "      <td>0.0</td>\n",
       "      <td>NaN</td>\n",
       "      <td>startrek</td>\n",
       "      <td>television</td>\n",
       "      <td>1455611836.0</td>\n",
       "      <td>Realik</td>\n",
       "      <td>2.0</td>\n",
       "      <td>0.0</td>\n",
       "      <td>16429.0</td>\n",
       "      <td>14192.0</td>\n",
       "      <td>4</td>\n",
       "    </tr>\n",
       "    <tr>\n",
       "      <td>...</td>\n",
       "      <td>...</td>\n",
       "      <td>...</td>\n",
       "      <td>...</td>\n",
       "      <td>...</td>\n",
       "      <td>...</td>\n",
       "      <td>...</td>\n",
       "      <td>...</td>\n",
       "      <td>...</td>\n",
       "      <td>...</td>\n",
       "      <td>...</td>\n",
       "      <td>...</td>\n",
       "      <td>...</td>\n",
       "      <td>...</td>\n",
       "    </tr>\n",
       "    <tr>\n",
       "      <td>149995</td>\n",
       "      <td>tastes like tobacco</td>\n",
       "      <td>d01kpyh</td>\n",
       "      <td>0.0</td>\n",
       "      <td>NaN</td>\n",
       "      <td>tf2</td>\n",
       "      <td>gaming</td>\n",
       "      <td>1.4556e+09</td>\n",
       "      <td>Sentient545</td>\n",
       "      <td>5</td>\n",
       "      <td>0.0</td>\n",
       "      <td>1168.0</td>\n",
       "      <td>21241.0</td>\n",
       "      <td>2995</td>\n",
       "    </tr>\n",
       "    <tr>\n",
       "      <td>149996</td>\n",
       "      <td>http  iimgurcombc26ygif</td>\n",
       "      <td>d01bp1k</td>\n",
       "      <td>0.0</td>\n",
       "      <td>NaN</td>\n",
       "      <td>tf2</td>\n",
       "      <td>gaming</td>\n",
       "      <td>1.45558e+09</td>\n",
       "      <td>Rhymes_with_ike</td>\n",
       "      <td>13</td>\n",
       "      <td>0.0</td>\n",
       "      <td>11134.0</td>\n",
       "      <td>26374.0</td>\n",
       "      <td>2996</td>\n",
       "    </tr>\n",
       "    <tr>\n",
       "      <td>149997</td>\n",
       "      <td>https  wikiteamfortresscomwimagesff2spy_taunts...</td>\n",
       "      <td>d01mbjk</td>\n",
       "      <td>0.0</td>\n",
       "      <td>NaN</td>\n",
       "      <td>tf2</td>\n",
       "      <td>gaming</td>\n",
       "      <td>1.4556e+09</td>\n",
       "      <td>KourageousBagel</td>\n",
       "      <td>3</td>\n",
       "      <td>0.0</td>\n",
       "      <td>276.0</td>\n",
       "      <td>622.0</td>\n",
       "      <td>2997</td>\n",
       "    </tr>\n",
       "    <tr>\n",
       "      <td>149998</td>\n",
       "      <td>it s an oldie but it s a hell of a goodie</td>\n",
       "      <td>d01puwj</td>\n",
       "      <td>0.0</td>\n",
       "      <td>NaN</td>\n",
       "      <td>tf2</td>\n",
       "      <td>gaming</td>\n",
       "      <td>1.45561e+09</td>\n",
       "      <td>--Benson</td>\n",
       "      <td>3</td>\n",
       "      <td>0.0</td>\n",
       "      <td>1.0</td>\n",
       "      <td>3576.0</td>\n",
       "      <td>2998</td>\n",
       "    </tr>\n",
       "    <tr>\n",
       "      <td>149999</td>\n",
       "      <td>old but gold</td>\n",
       "      <td>d01e2lq</td>\n",
       "      <td>0.0</td>\n",
       "      <td>NaN</td>\n",
       "      <td>tf2</td>\n",
       "      <td>gaming</td>\n",
       "      <td>1.45559e+09</td>\n",
       "      <td>kydaper1</td>\n",
       "      <td>4</td>\n",
       "      <td>0.0</td>\n",
       "      <td>4023.0</td>\n",
       "      <td>7323.0</td>\n",
       "      <td>2999</td>\n",
       "    </tr>\n",
       "  </tbody>\n",
       "</table>\n",
       "<p>150000 rows × 13 columns</p>\n",
       "</div>"
      ],
      "text/plain": [
       "                                                     text        1   10  11  \\\n",
       "0                                                     NaN   466jwy  1.0 NaN   \n",
       "1       that sounds awesome i ll check it out tonight ...  d027xk0  0.0 NaN   \n",
       "2       star trek tos  50th anniversary tribute game n...   463gry  0.0 NaN   \n",
       "3       would nt spock have found it a bit  insulting ...   461kw5  0.0 NaN   \n",
       "4                                    also  what is a soul  d01pqtn  0.0 NaN   \n",
       "...                                                   ...      ...  ...  ..   \n",
       "149995                               tastes like tobacco   d01kpyh  0.0 NaN   \n",
       "149996                            http  iimgurcombc26ygif  d01bp1k  0.0 NaN   \n",
       "149997  https  wikiteamfortresscomwimagesff2spy_taunts...  d01mbjk  0.0 NaN   \n",
       "149998          it s an oldie but it s a hell of a goodie  d01puwj  0.0 NaN   \n",
       "149999                                       old but gold  d01e2lq  0.0 NaN   \n",
       "\n",
       "       subreddit       label             4                5     6    7  \\\n",
       "0       startrek  television  1455683402.0      JesseBotwin   1.0  0.0   \n",
       "1       startrek  television  1455650159.0        notheebie   1.0  0.0   \n",
       "2       startrek  television  1455643118.0      thisoldfart   3.0  0.0   \n",
       "3       startrek  television  1455611558.0             FPSD  18.0  0.0   \n",
       "4       startrek  television  1455611836.0           Realik   2.0  0.0   \n",
       "...          ...         ...           ...              ...   ...  ...   \n",
       "149995       tf2      gaming    1.4556e+09      Sentient545     5  0.0   \n",
       "149996       tf2      gaming   1.45558e+09  Rhymes_with_ike    13  0.0   \n",
       "149997       tf2      gaming    1.4556e+09  KourageousBagel     3  0.0   \n",
       "149998       tf2      gaming   1.45561e+09         --Benson     3  0.0   \n",
       "149999       tf2      gaming   1.45559e+09         kydaper1     4  0.0   \n",
       "\n",
       "              8        9  Unnamed: 0  \n",
       "0        2257.0    937.0           0  \n",
       "1         307.0  26352.0           1  \n",
       "2        3811.0    878.0           2  \n",
       "3           1.0   1486.0           3  \n",
       "4       16429.0  14192.0           4  \n",
       "...         ...      ...         ...  \n",
       "149995   1168.0  21241.0        2995  \n",
       "149996  11134.0  26374.0        2996  \n",
       "149997    276.0    622.0        2997  \n",
       "149998      1.0   3576.0        2998  \n",
       "149999   4023.0   7323.0        2999  \n",
       "\n",
       "[150000 rows x 13 columns]"
      ]
     },
     "execution_count": 5,
     "metadata": {},
     "output_type": "execute_result"
    }
   ],
   "source": [
    "df = pd.read_csv(\"../data/raw_data.csv\")\n",
    "\n",
    "#rename columns\n",
    "df = df.rename(columns={\"0\": \"text\", \"2\": \"subreddit\", \"3\":\"label\"})\n",
    "\n",
    "df"
   ]
  },
  {
   "cell_type": "markdown",
   "metadata": {},
   "source": [
    "## 2. Preprocessing"
   ]
  },
  {
   "cell_type": "code",
   "execution_count": 4,
   "metadata": {},
   "outputs": [
    {
     "data": {
      "text/html": [
       "<div>\n",
       "<style scoped>\n",
       "    .dataframe tbody tr th:only-of-type {\n",
       "        vertical-align: middle;\n",
       "    }\n",
       "\n",
       "    .dataframe tbody tr th {\n",
       "        vertical-align: top;\n",
       "    }\n",
       "\n",
       "    .dataframe thead th {\n",
       "        text-align: right;\n",
       "    }\n",
       "</style>\n",
       "<table border=\"1\" class=\"dataframe\">\n",
       "  <thead>\n",
       "    <tr style=\"text-align: right;\">\n",
       "      <th></th>\n",
       "      <th>text</th>\n",
       "      <th>subreddit</th>\n",
       "      <th>label</th>\n",
       "    </tr>\n",
       "  </thead>\n",
       "  <tbody>\n",
       "    <tr>\n",
       "      <td>1</td>\n",
       "      <td>that sounds awesome i ll check it out tonight ...</td>\n",
       "      <td>startrek</td>\n",
       "      <td>television</td>\n",
       "    </tr>\n",
       "    <tr>\n",
       "      <td>2</td>\n",
       "      <td>star trek tos  50th anniversary tribute game n...</td>\n",
       "      <td>startrek</td>\n",
       "      <td>television</td>\n",
       "    </tr>\n",
       "    <tr>\n",
       "      <td>3</td>\n",
       "      <td>would nt spock have found it a bit  insulting ...</td>\n",
       "      <td>startrek</td>\n",
       "      <td>television</td>\n",
       "    </tr>\n",
       "    <tr>\n",
       "      <td>5</td>\n",
       "      <td>spock was half human and had worked for some t...</td>\n",
       "      <td>startrek</td>\n",
       "      <td>television</td>\n",
       "    </tr>\n",
       "    <tr>\n",
       "      <td>6</td>\n",
       "      <td>i got a notice from audible this afternoon tha...</td>\n",
       "      <td>startrek</td>\n",
       "      <td>television</td>\n",
       "    </tr>\n",
       "    <tr>\n",
       "      <td>...</td>\n",
       "      <td>...</td>\n",
       "      <td>...</td>\n",
       "      <td>...</td>\n",
       "    </tr>\n",
       "    <tr>\n",
       "      <td>149009</td>\n",
       "      <td>regular model   https  wikiteamfortresscomwim...</td>\n",
       "      <td>tf2</td>\n",
       "      <td>gaming</td>\n",
       "    </tr>\n",
       "    <tr>\n",
       "      <td>149010</td>\n",
       "      <td>my friend gave me a strange killstreak version...</td>\n",
       "      <td>tf2</td>\n",
       "      <td>gaming</td>\n",
       "    </tr>\n",
       "    <tr>\n",
       "      <td>149011</td>\n",
       "      <td>so i m pretty sad to know that the bottle does...</td>\n",
       "      <td>tf2</td>\n",
       "      <td>gaming</td>\n",
       "    </tr>\n",
       "    <tr>\n",
       "      <td>149013</td>\n",
       "      <td>fun fact  if you die with the neon annihilator...</td>\n",
       "      <td>tf2</td>\n",
       "      <td>gaming</td>\n",
       "    </tr>\n",
       "    <tr>\n",
       "      <td>149014</td>\n",
       "      <td>this weapon seriously needs a buff to make it ...</td>\n",
       "      <td>tf2</td>\n",
       "      <td>gaming</td>\n",
       "    </tr>\n",
       "  </tbody>\n",
       "</table>\n",
       "<p>28745 rows × 3 columns</p>\n",
       "</div>"
      ],
      "text/plain": [
       "                                                     text subreddit  \\\n",
       "1       that sounds awesome i ll check it out tonight ...  startrek   \n",
       "2       star trek tos  50th anniversary tribute game n...  startrek   \n",
       "3       would nt spock have found it a bit  insulting ...  startrek   \n",
       "5       spock was half human and had worked for some t...  startrek   \n",
       "6       i got a notice from audible this afternoon tha...  startrek   \n",
       "...                                                   ...       ...   \n",
       "149009   regular model   https  wikiteamfortresscomwim...       tf2   \n",
       "149010  my friend gave me a strange killstreak version...       tf2   \n",
       "149011  so i m pretty sad to know that the bottle does...       tf2   \n",
       "149013  fun fact  if you die with the neon annihilator...       tf2   \n",
       "149014  this weapon seriously needs a buff to make it ...       tf2   \n",
       "\n",
       "             label  \n",
       "1       television  \n",
       "2       television  \n",
       "3       television  \n",
       "5       television  \n",
       "6       television  \n",
       "...            ...  \n",
       "149009      gaming  \n",
       "149010      gaming  \n",
       "149011      gaming  \n",
       "149013      gaming  \n",
       "149014      gaming  \n",
       "\n",
       "[28745 rows x 3 columns]"
      ]
     },
     "execution_count": 4,
     "metadata": {},
     "output_type": "execute_result"
    }
   ],
   "source": [
    "#only keep important columns\n",
    "df = df[[\"text\", \"subreddit\" ,\"label\"]]\n",
    "\n",
    "# remove empty texts\n",
    "df = df[(df[\"text\"] != \" removed \") & (df[\"text\"] != \" deleted \") & (df[\"text\"] != np.nan)]\n",
    "\n",
    "# remove NAN values\n",
    "df = df.dropna()\n",
    "\n",
    "# only keep at least 10 words per item\n",
    "df = df[df[\"text\"].str.count(' ') > 10]\n",
    "\n",
    "# drop duplicates\n",
    "df = df.drop_duplicates(subset=\"text\")\n",
    "df"
   ]
  },
  {
   "cell_type": "code",
   "execution_count": 5,
   "metadata": {},
   "outputs": [
    {
     "data": {
      "text/plain": [
       "gaming           6653\n",
       "lifestyle        5155\n",
       "news             4346\n",
       "television       4126\n",
       "learning         3824\n",
       "humor            3359\n",
       "entertainment    1282\n",
       "Name: label, dtype: int64"
      ]
     },
     "execution_count": 5,
     "metadata": {},
     "output_type": "execute_result"
    }
   ],
   "source": [
    "df[\"label\"].value_counts()"
   ]
  },
  {
   "cell_type": "code",
   "execution_count": 6,
   "metadata": {},
   "outputs": [
    {
     "data": {
      "text/html": [
       "<div>\n",
       "<style scoped>\n",
       "    .dataframe tbody tr th:only-of-type {\n",
       "        vertical-align: middle;\n",
       "    }\n",
       "\n",
       "    .dataframe tbody tr th {\n",
       "        vertical-align: top;\n",
       "    }\n",
       "\n",
       "    .dataframe thead th {\n",
       "        text-align: right;\n",
       "    }\n",
       "</style>\n",
       "<table border=\"1\" class=\"dataframe\">\n",
       "  <thead>\n",
       "    <tr style=\"text-align: right;\">\n",
       "      <th></th>\n",
       "      <th>cat_entertainment</th>\n",
       "      <th>cat_gaming</th>\n",
       "      <th>cat_humor</th>\n",
       "      <th>cat_learning</th>\n",
       "      <th>cat_lifestyle</th>\n",
       "      <th>cat_news</th>\n",
       "      <th>cat_television</th>\n",
       "    </tr>\n",
       "  </thead>\n",
       "  <tbody>\n",
       "    <tr>\n",
       "      <td>1</td>\n",
       "      <td>0</td>\n",
       "      <td>0</td>\n",
       "      <td>0</td>\n",
       "      <td>0</td>\n",
       "      <td>0</td>\n",
       "      <td>0</td>\n",
       "      <td>1</td>\n",
       "    </tr>\n",
       "    <tr>\n",
       "      <td>2</td>\n",
       "      <td>0</td>\n",
       "      <td>0</td>\n",
       "      <td>0</td>\n",
       "      <td>0</td>\n",
       "      <td>0</td>\n",
       "      <td>0</td>\n",
       "      <td>1</td>\n",
       "    </tr>\n",
       "    <tr>\n",
       "      <td>3</td>\n",
       "      <td>0</td>\n",
       "      <td>0</td>\n",
       "      <td>0</td>\n",
       "      <td>0</td>\n",
       "      <td>0</td>\n",
       "      <td>0</td>\n",
       "      <td>1</td>\n",
       "    </tr>\n",
       "    <tr>\n",
       "      <td>5</td>\n",
       "      <td>0</td>\n",
       "      <td>0</td>\n",
       "      <td>0</td>\n",
       "      <td>0</td>\n",
       "      <td>0</td>\n",
       "      <td>0</td>\n",
       "      <td>1</td>\n",
       "    </tr>\n",
       "    <tr>\n",
       "      <td>6</td>\n",
       "      <td>0</td>\n",
       "      <td>0</td>\n",
       "      <td>0</td>\n",
       "      <td>0</td>\n",
       "      <td>0</td>\n",
       "      <td>0</td>\n",
       "      <td>1</td>\n",
       "    </tr>\n",
       "    <tr>\n",
       "      <td>...</td>\n",
       "      <td>...</td>\n",
       "      <td>...</td>\n",
       "      <td>...</td>\n",
       "      <td>...</td>\n",
       "      <td>...</td>\n",
       "      <td>...</td>\n",
       "      <td>...</td>\n",
       "    </tr>\n",
       "    <tr>\n",
       "      <td>149009</td>\n",
       "      <td>0</td>\n",
       "      <td>1</td>\n",
       "      <td>0</td>\n",
       "      <td>0</td>\n",
       "      <td>0</td>\n",
       "      <td>0</td>\n",
       "      <td>0</td>\n",
       "    </tr>\n",
       "    <tr>\n",
       "      <td>149010</td>\n",
       "      <td>0</td>\n",
       "      <td>1</td>\n",
       "      <td>0</td>\n",
       "      <td>0</td>\n",
       "      <td>0</td>\n",
       "      <td>0</td>\n",
       "      <td>0</td>\n",
       "    </tr>\n",
       "    <tr>\n",
       "      <td>149011</td>\n",
       "      <td>0</td>\n",
       "      <td>1</td>\n",
       "      <td>0</td>\n",
       "      <td>0</td>\n",
       "      <td>0</td>\n",
       "      <td>0</td>\n",
       "      <td>0</td>\n",
       "    </tr>\n",
       "    <tr>\n",
       "      <td>149013</td>\n",
       "      <td>0</td>\n",
       "      <td>1</td>\n",
       "      <td>0</td>\n",
       "      <td>0</td>\n",
       "      <td>0</td>\n",
       "      <td>0</td>\n",
       "      <td>0</td>\n",
       "    </tr>\n",
       "    <tr>\n",
       "      <td>149014</td>\n",
       "      <td>0</td>\n",
       "      <td>1</td>\n",
       "      <td>0</td>\n",
       "      <td>0</td>\n",
       "      <td>0</td>\n",
       "      <td>0</td>\n",
       "      <td>0</td>\n",
       "    </tr>\n",
       "  </tbody>\n",
       "</table>\n",
       "<p>28745 rows × 7 columns</p>\n",
       "</div>"
      ],
      "text/plain": [
       "        cat_entertainment  cat_gaming  cat_humor  cat_learning  cat_lifestyle  \\\n",
       "1                       0           0          0             0              0   \n",
       "2                       0           0          0             0              0   \n",
       "3                       0           0          0             0              0   \n",
       "5                       0           0          0             0              0   \n",
       "6                       0           0          0             0              0   \n",
       "...                   ...         ...        ...           ...            ...   \n",
       "149009                  0           1          0             0              0   \n",
       "149010                  0           1          0             0              0   \n",
       "149011                  0           1          0             0              0   \n",
       "149013                  0           1          0             0              0   \n",
       "149014                  0           1          0             0              0   \n",
       "\n",
       "        cat_news  cat_television  \n",
       "1              0               1  \n",
       "2              0               1  \n",
       "3              0               1  \n",
       "5              0               1  \n",
       "6              0               1  \n",
       "...          ...             ...  \n",
       "149009         0               0  \n",
       "149010         0               0  \n",
       "149011         0               0  \n",
       "149013         0               0  \n",
       "149014         0               0  \n",
       "\n",
       "[28745 rows x 7 columns]"
      ]
     },
     "execution_count": 6,
     "metadata": {},
     "output_type": "execute_result"
    }
   ],
   "source": [
    "labels = pd.get_dummies(df[\"label\"],prefix='cat')\n",
    "labels"
   ]
  },
  {
   "cell_type": "code",
   "execution_count": 7,
   "metadata": {},
   "outputs": [],
   "source": [
    "data = df[\"text\"].values"
   ]
  },
  {
   "cell_type": "code",
   "execution_count": 8,
   "metadata": {},
   "outputs": [],
   "source": [
    "from nltk.tokenize import TweetTokenizer\n",
    "tknzr = TweetTokenizer()\n",
    "data_tokens = df[\"text\"].apply(lambda x: tknzr.tokenize(x)).values"
   ]
  },
  {
   "cell_type": "code",
   "execution_count": 9,
   "metadata": {},
   "outputs": [],
   "source": [
    "from nltk.stem.snowball import SnowballStemmer\n",
    "import string\n",
    "from nltk.corpus import stopwords"
   ]
  },
  {
   "cell_type": "code",
   "execution_count": 10,
   "metadata": {},
   "outputs": [],
   "source": [
    "class Preprocessor:\n",
    "    def __init__(self, stem=True, punctuation=True, digit=True):\n",
    "        self.st = SnowballStemmer(\"french\", ignore_stopwords=True)\n",
    "        self.punctuations = set(string.punctuation)\n",
    "        self.stem = stem\n",
    "        self.punctuation = punctuation\n",
    "        self.digit = digit\n",
    "    \n",
    "    def raw_preprocess(self, token_list):\n",
    "        new_token_list = []\n",
    "        for token in token_list:\n",
    "            is_token_valid = True\n",
    "            token = token.lower()\n",
    "            \n",
    "            # stemming\n",
    "            if self.stem:\n",
    "                token = self.st.stem(token)\n",
    "\n",
    "            # punctuation filtering\n",
    "            if self.punctuation and token in self.punctuations:\n",
    "                is_token_valid = False\n",
    "\n",
    "            # digit filtering\n",
    "            elif self.digit and token.isdigit():\n",
    "                is_token_valid = False\n",
    "                \n",
    "            # link filtering\n",
    "            elif token == \"http\" or token == \"https\" or token[:9] == \"iimgurcom\":\n",
    "                is_token_valid = False\n",
    "            # add token to new sub list\n",
    "            if is_token_valid:\n",
    "                new_token_list.append(token)\n",
    "        return new_token_list\n",
    "        "
   ]
  },
  {
   "cell_type": "code",
   "execution_count": 27,
   "metadata": {},
   "outputs": [],
   "source": [
    "from sklearn.feature_extraction.text import TfidfVectorizer\n",
    "\n",
    "def identity_tokenizer(text):\n",
    "    return text"
   ]
  },
  {
   "cell_type": "markdown",
   "metadata": {},
   "source": [
    "### TF-IDF"
   ]
  },
  {
   "cell_type": "code",
   "execution_count": 28,
   "metadata": {},
   "outputs": [
    {
     "name": "stdout",
     "output_type": "stream",
     "text": [
      "CPU times: user 33.9 s, sys: 74.8 ms, total: 33.9 s\n",
      "Wall time: 34.1 s\n"
     ]
    },
    {
     "data": {
      "text/plain": [
       "<28745x46223 sparse matrix of type '<class 'numpy.float64'>'\n",
       "\twith 1019451 stored elements in Compressed Sparse Row format>"
      ]
     },
     "execution_count": 28,
     "metadata": {},
     "output_type": "execute_result"
    }
   ],
   "source": [
    "%%time\n",
    "preprocessor = Preprocessor()\n",
    "vectorizer = TfidfVectorizer(preprocessor=preprocessor.raw_preprocess ,tokenizer=identity_tokenizer)\n",
    "IDF_data = vectorizer.fit_transform(data_tokens)\n",
    "IDF_data"
   ]
  },
  {
   "cell_type": "markdown",
   "metadata": {},
   "source": [
    "### SVD"
   ]
  },
  {
   "cell_type": "code",
   "execution_count": 29,
   "metadata": {},
   "outputs": [],
   "source": [
    "from sklearn.decomposition import TruncatedSVD"
   ]
  },
  {
   "cell_type": "code",
   "execution_count": 30,
   "metadata": {},
   "outputs": [
    {
     "name": "stdout",
     "output_type": "stream",
     "text": [
      "CPU times: user 26min 46s, sys: 11min 41s, total: 38min 28s\n",
      "Wall time: 7min 42s\n"
     ]
    },
    {
     "data": {
      "text/plain": [
       "TruncatedSVD(algorithm='randomized', n_components=1000, n_iter=100,\n",
       "             random_state=None, tol=0.0)"
      ]
     },
     "execution_count": 30,
     "metadata": {},
     "output_type": "execute_result"
    }
   ],
   "source": [
    "%%time\n",
    "svd = TruncatedSVD(n_components=500, algorithm='randomized', n_iter=100)\n",
    "svd.fit(IDF_data)"
   ]
  },
  {
   "cell_type": "code",
   "execution_count": 14,
   "metadata": {},
   "outputs": [
    {
     "data": {
      "text/plain": [
       "0.48486305877295205"
      ]
     },
     "execution_count": 14,
     "metadata": {},
     "output_type": "execute_result"
    }
   ],
   "source": [
    "sum(svd.explained_variance_)"
   ]
  },
  {
   "cell_type": "code",
   "execution_count": 15,
   "metadata": {},
   "outputs": [],
   "source": [
    "SVD_data = svd.transform(IDF_data)"
   ]
  },
  {
   "cell_type": "markdown",
   "metadata": {},
   "source": [
    "## 3. KNN"
   ]
  },
  {
   "cell_type": "code",
   "execution_count": 16,
   "metadata": {},
   "outputs": [],
   "source": [
    "y_data = labels.values"
   ]
  },
  {
   "cell_type": "code",
   "execution_count": 17,
   "metadata": {},
   "outputs": [],
   "source": [
    "X_data = SVD_data"
   ]
  },
  {
   "cell_type": "code",
   "execution_count": 18,
   "metadata": {},
   "outputs": [],
   "source": [
    "from sklearn.model_selection import train_test_split\n",
    "X_train, X_test, y_train, y_test = train_test_split(X_data, y_data, test_size=0.3, random_state=32)"
   ]
  },
  {
   "cell_type": "code",
   "execution_count": 21,
   "metadata": {},
   "outputs": [
    {
     "name": "stdout",
     "output_type": "stream",
     "text": [
      "20121\n",
      "8624\n"
     ]
    }
   ],
   "source": [
    "print(len(X_train))\n",
    "print(len(X_test))"
   ]
  },
  {
   "cell_type": "code",
   "execution_count": 25,
   "metadata": {},
   "outputs": [
    {
     "name": "stdout",
     "output_type": "stream",
     "text": [
      "CPU times: user 876 ms, sys: 9.49 ms, total: 885 ms\n",
      "Wall time: 885 ms\n"
     ]
    },
    {
     "data": {
      "text/plain": [
       "KNeighborsClassifier(algorithm='auto', leaf_size=30, metric='minkowski',\n",
       "                     metric_params=None, n_jobs=None, n_neighbors=1, p=2,\n",
       "                     weights='uniform')"
      ]
     },
     "execution_count": 25,
     "metadata": {},
     "output_type": "execute_result"
    }
   ],
   "source": [
    "%%time\n",
    "from sklearn.neighbors import KNeighborsClassifier\n",
    "\n",
    "knn_classifier = KNeighborsClassifier(n_neighbors=1)\n",
    "knn_classifier.fit(X_train, y_train)"
   ]
  },
  {
   "cell_type": "code",
   "execution_count": 26,
   "metadata": {},
   "outputs": [
    {
     "name": "stdout",
     "output_type": "stream",
     "text": [
      "CPU times: user 4min 49s, sys: 136 ms, total: 4min 49s\n",
      "Wall time: 4min 50s\n"
     ]
    }
   ],
   "source": [
    "%%time\n",
    "y_pred = knn_classifier.predict(X_test)"
   ]
  },
  {
   "cell_type": "code",
   "execution_count": 24,
   "metadata": {},
   "outputs": [
    {
     "data": {
      "text/plain": [
       "0.2897727272727273"
      ]
     },
     "execution_count": 24,
     "metadata": {},
     "output_type": "execute_result"
    }
   ],
   "source": [
    "from sklearn.metrics import accuracy_score\n",
    "\n",
    "accuracy_score(y_test, y_pred)"
   ]
  },
  {
   "cell_type": "markdown",
   "metadata": {},
   "source": [
    "### Approche wrapper pour le nombre de voisins (très long à rouler)"
   ]
  },
  {
   "cell_type": "code",
   "execution_count": null,
   "metadata": {},
   "outputs": [],
   "source": [
    "have_a_lot_of_time = False\n",
    "accuracies = []\n",
    "n_neighbors = []\n",
    "if have_a_lot_of_time:\n",
    "    for i in range (1, 50, 2):\n",
    "        print(\"k = \" + str(i), \"\\r\")\n",
    "        knn_classifier = KNeighborsClassifier(n_neighbors=i)\n",
    "        knn_classifier.fit(X_train, y_train)\n",
    "        y_pred = knn_classifier.predict(X_test)\n",
    "        accuracies.append(accuracy_score(y_test, y_pred))\n",
    "        n_neighbors.append(i)\n",
    "    "
   ]
  },
  {
   "cell_type": "code",
   "execution_count": null,
   "metadata": {},
   "outputs": [],
   "source": [
    "accuracies"
   ]
  },
  {
   "cell_type": "markdown",
   "metadata": {},
   "source": [
    "## 4. Deep learning avec embedding"
   ]
  },
  {
   "cell_type": "code",
   "execution_count": 31,
   "metadata": {
    "collapsed": true
   },
   "outputs": [
    {
     "name": "stderr",
     "output_type": "stream",
     "text": [
      "WARNING: Logging before flag parsing goes to stderr.\n",
      "W1130 12:06:31.975449 140397127784128 __init__.py:690] \n",
      "\n",
      "  TensorFlow's `tf-nightly` package will soon be updated to TensorFlow 2.0.\n",
      "\n",
      "  Please upgrade your code to TensorFlow 2.0:\n",
      "    * https://www.tensorflow.org/beta/guide/migration_guide\n",
      "\n",
      "  Or install the latest stable TensorFlow 1.X release:\n",
      "    * `pip install -U \"tensorflow==1.*\"`\n",
      "\n",
      "  Otherwise your code may be broken by the change.\n",
      "\n",
      "  \n"
     ]
    }
   ],
   "source": [
    "from __future__ import absolute_import, division, print_function, unicode_literals\n",
    "\n",
    "import tensorflow as tf\n",
    "from tensorflow import keras"
   ]
  },
  {
   "cell_type": "markdown",
   "metadata": {},
   "source": [
    "### Création d'un dictionnaire et padding"
   ]
  },
  {
   "cell_type": "code",
   "execution_count": 32,
   "metadata": {},
   "outputs": [],
   "source": [
    "from nltk.util import ngrams\n",
    "from collections import defaultdict\n",
    "from os import linesep\n",
    "\n",
    "def build_voc(corpus):\n",
    "    \n",
    "    word_dict = {}\n",
    "\n",
    "    for document in corpus:\n",
    "        for word in document:\n",
    "            if word not in word_dict:\n",
    "                word_dict[word] = len(word_dict) + 1 # 0 = padding\n",
    "                \n",
    "    with open(\"./vocab.txt\", \"w\") as f:\n",
    "        for word in word_dict.keys():\n",
    "            f.write(word + \"\\n\")\n",
    "        \n",
    "    return word_dict"
   ]
  },
  {
   "cell_type": "code",
   "execution_count": 33,
   "metadata": {},
   "outputs": [],
   "source": [
    "def split_items(list_of_strings):\n",
    "    stripped_strings = []\n",
    "    for string in list_of_strings:\n",
    "        stripped_strings.append(string.split(' '))\n",
    "    return stripped_strings"
   ]
  },
  {
   "cell_type": "code",
   "execution_count": 34,
   "metadata": {},
   "outputs": [],
   "source": [
    "splited_data = split_items(data)"
   ]
  },
  {
   "cell_type": "code",
   "execution_count": 36,
   "metadata": {},
   "outputs": [
    {
     "name": "stdout",
     "output_type": "stream",
     "text": [
      "CPU times: user 166 ms, sys: 5.81 ms, total: 171 ms\n",
      "Wall time: 171 ms\n"
     ]
    }
   ],
   "source": [
    "%%time\n",
    "vocab = build_voc(splited_data)"
   ]
  },
  {
   "cell_type": "code",
   "execution_count": 38,
   "metadata": {},
   "outputs": [
    {
     "data": {
      "text/plain": [
       "54629"
      ]
     },
     "execution_count": 38,
     "metadata": {},
     "output_type": "execute_result"
    }
   ],
   "source": [
    "vocab_size = len(vocab)\n",
    "vocab_size"
   ]
  },
  {
   "cell_type": "code",
   "execution_count": 39,
   "metadata": {},
   "outputs": [],
   "source": [
    "def get_max_sentence_length(corpus):\n",
    "    return max([len(sentence) for sentence in corpus])"
   ]
  },
  {
   "cell_type": "code",
   "execution_count": 40,
   "metadata": {},
   "outputs": [],
   "source": [
    "def get_number_vectors(X):\n",
    "    \n",
    "    return [[vocab[word] for word in sentence] for sentence in X]"
   ]
  },
  {
   "cell_type": "code",
   "execution_count": 41,
   "metadata": {},
   "outputs": [
    {
     "name": "stderr",
     "output_type": "stream",
     "text": [
      "Using TensorFlow backend.\n"
     ]
    },
    {
     "name": "stdout",
     "output_type": "stream",
     "text": [
      "max sentence length:  10000\n"
     ]
    }
   ],
   "source": [
    "from keras.preprocessing.text import Tokenizer, one_hot\n",
    "from keras.preprocessing.sequence import pad_sequences\n",
    "\n",
    "max_sentence_length = get_max_sentence_length(splited_data)\n",
    "print(\"max sentence length: \", max_sentence_length)\n",
    "\n",
    "def get_padded_sequences(X):\n",
    "    return pad_sequences(sequences=get_number_vectors(X),\n",
    "                         padding='post',\n",
    "                         maxlen=max_sentence_length)\n",
    "\n",
    "def get_padded_sequences_max(X, max_len):\n",
    "    return pad_sequences(sequences=get_number_vectors(X),\n",
    "                         padding='post',\n",
    "                         maxlen=max_len)\n",
    "\n",
    "padded_data = get_padded_sequences(splited_data)"
   ]
  },
  {
   "cell_type": "code",
   "execution_count": 42,
   "metadata": {},
   "outputs": [
    {
     "name": "stdout",
     "output_type": "stream",
     "text": [
      "CPU times: user 406 ms, sys: 49.3 ms, total: 456 ms\n",
      "Wall time: 464 ms\n"
     ]
    }
   ],
   "source": [
    "%%time\n",
    "# fix max length of sequences\n",
    "padded_data = get_padded_sequences_max(splited_data, 100)"
   ]
  },
  {
   "cell_type": "code",
   "execution_count": 245,
   "metadata": {},
   "outputs": [],
   "source": [
    "#using padded raw data from tf\n",
    "X_train, X_test, y_train, y_test = train_test_split(padded_data, y_data, test_size=0.3, random_state=32)"
   ]
  },
  {
   "cell_type": "markdown",
   "metadata": {},
   "source": [
    "### Modèle de réseau de neurones"
   ]
  },
  {
   "cell_type": "code",
   "execution_count": 318,
   "metadata": {},
   "outputs": [
    {
     "name": "stdout",
     "output_type": "stream",
     "text": [
      "Model: \"sequential_44\"\n",
      "_________________________________________________________________\n",
      "Layer (type)                 Output Shape              Param #   \n",
      "=================================================================\n",
      "embedding_15 (Embedding)     (None, None, 32)          1748160   \n",
      "_________________________________________________________________\n",
      "global_average_pooling1d_15  (None, 32)                0         \n",
      "_________________________________________________________________\n",
      "dense_100 (Dense)            (None, 16)                528       \n",
      "_________________________________________________________________\n",
      "dense_101 (Dense)            (None, 7)                 119       \n",
      "=================================================================\n",
      "Total params: 1,748,807\n",
      "Trainable params: 1,748,807\n",
      "Non-trainable params: 0\n",
      "_________________________________________________________________\n"
     ]
    }
   ],
   "source": [
    "model = keras.Sequential()\n",
    "model.add(keras.layers.Embedding(vocab_size + 1, 32))\n",
    "model.add(keras.layers.GlobalAveragePooling1D())\n",
    "model.add(keras.layers.Dense(16, activation=tf.nn.relu))\n",
    "model.add(keras.layers.Dense(7, activation=tf.nn.sigmoid))\n",
    "model.summary()"
   ]
  },
  {
   "cell_type": "code",
   "execution_count": 319,
   "metadata": {},
   "outputs": [],
   "source": [
    "model.compile(optimizer='adam',\n",
    "             loss='categorical_crossentropy',\n",
    "             metrics=['acc'])"
   ]
  },
  {
   "cell_type": "code",
   "execution_count": 320,
   "metadata": {},
   "outputs": [],
   "source": [
    "partial_x_train, x_validation, partial_y_train, y_validation = train_test_split(X_train, y_train, test_size=0.3, random_state=32)"
   ]
  },
  {
   "cell_type": "code",
   "execution_count": 321,
   "metadata": {},
   "outputs": [
    {
     "data": {
      "text/plain": [
       "[0, 0, 0, 0, 0, 0, 0]"
      ]
     },
     "execution_count": 321,
     "metadata": {},
     "output_type": "execute_result"
    }
   ],
   "source": [
    "sum_y = [0 for i in range(7)]\n",
    "sum_y"
   ]
  },
  {
   "cell_type": "code",
   "execution_count": 322,
   "metadata": {},
   "outputs": [
    {
     "data": {
      "text/plain": [
       "array([ 369, 1986, 1010, 1192, 1536, 1280, 1251])"
      ]
     },
     "execution_count": 322,
     "metadata": {},
     "output_type": "execute_result"
    }
   ],
   "source": [
    "for entry in y_test:\n",
    "    sum_y = sum_y + entry\n",
    "sum_y"
   ]
  },
  {
   "cell_type": "code",
   "execution_count": 323,
   "metadata": {},
   "outputs": [
    {
     "name": "stdout",
     "output_type": "stream",
     "text": [
      "proportion classe majoritaire: 0.23028756957328386\n"
     ]
    }
   ],
   "source": [
    "print(\"proportion classe majoritaire: \" + str((max(sum_y)/sum(sum_y))))"
   ]
  },
  {
   "cell_type": "code",
   "execution_count": 324,
   "metadata": {},
   "outputs": [
    {
     "name": "stdout",
     "output_type": "stream",
     "text": [
      "Train on 14084 samples, validate on 6037 samples\n",
      "Epoch 1/15\n",
      "14084/14084 [==============================] - 7s 515us/sample - loss: 1.8752 - acc: 0.2320 - val_loss: 1.8530 - val_acc: 0.2281\n",
      "Epoch 2/15\n",
      "14084/14084 [==============================] - 6s 446us/sample - loss: 1.8255 - acc: 0.2522 - val_loss: 1.8082 - val_acc: 0.2751\n",
      "Epoch 3/15\n",
      "14084/14084 [==============================] - 6s 452us/sample - loss: 1.7177 - acc: 0.3225 - val_loss: 1.6382 - val_acc: 0.3475\n",
      "Epoch 4/15\n",
      "14084/14084 [==============================] - 6s 440us/sample - loss: 1.4469 - acc: 0.4726 - val_loss: 1.4135 - val_acc: 0.5031\n",
      "Epoch 5/15\n",
      "14084/14084 [==============================] - 6s 439us/sample - loss: 1.2031 - acc: 0.5962 - val_loss: 1.2712 - val_acc: 0.5581\n",
      "Epoch 6/15\n",
      "14084/14084 [==============================] - 6s 435us/sample - loss: 1.0217 - acc: 0.6723 - val_loss: 1.1823 - val_acc: 0.5740\n",
      "Epoch 7/15\n",
      "14084/14084 [==============================] - 6s 433us/sample - loss: 0.8801 - acc: 0.7288 - val_loss: 1.1260 - val_acc: 0.6160\n",
      "Epoch 8/15\n",
      "14084/14084 [==============================] - 6s 439us/sample - loss: 0.7680 - acc: 0.7691 - val_loss: 1.0909 - val_acc: 0.6200\n",
      "Epoch 9/15\n",
      "14084/14084 [==============================] - 6s 439us/sample - loss: 0.6730 - acc: 0.8069 - val_loss: 1.0739 - val_acc: 0.6293\n",
      "Epoch 10/15\n",
      "14084/14084 [==============================] - 6s 446us/sample - loss: 0.5934 - acc: 0.8334 - val_loss: 1.0563 - val_acc: 0.6437\n",
      "Epoch 11/15\n",
      "14084/14084 [==============================] - 6s 445us/sample - loss: 0.5252 - acc: 0.8564 - val_loss: 1.0535 - val_acc: 0.6412\n",
      "Epoch 12/15\n",
      "14084/14084 [==============================] - 6s 444us/sample - loss: 0.4661 - acc: 0.8776 - val_loss: 1.0553 - val_acc: 0.6465\n",
      "Epoch 13/15\n",
      "14084/14084 [==============================] - 6s 443us/sample - loss: 0.4125 - acc: 0.8933 - val_loss: 1.0551 - val_acc: 0.6475\n",
      "Epoch 14/15\n",
      "14084/14084 [==============================] - 6s 437us/sample - loss: 0.3661 - acc: 0.9068 - val_loss: 1.0758 - val_acc: 0.6444\n",
      "Epoch 15/15\n",
      "14084/14084 [==============================] - 6s 448us/sample - loss: 0.3254 - acc: 0.9211 - val_loss: 1.0978 - val_acc: 0.6439\n",
      "CPU times: user 5min 19s, sys: 45.7 s, total: 6min 5s\n",
      "Wall time: 1min 36s\n"
     ]
    }
   ],
   "source": [
    "%%time\n",
    "history = model.fit(partial_x_train,\n",
    "                   partial_y_train,\n",
    "                   epochs=15,\n",
    "                   batch_size=32,\n",
    "                   validation_data=(x_validation, y_validation),\n",
    "                   verbose=1)"
   ]
  },
  {
   "cell_type": "code",
   "execution_count": 325,
   "metadata": {},
   "outputs": [
    {
     "name": "stdout",
     "output_type": "stream",
     "text": [
      "8624/8624 [==============================] - 0s 46us/sample - loss: 1.0989 - acc: 0.6424\n",
      "[1.0989167431511109, 0.64239335]\n",
      "CPU times: user 520 ms, sys: 57.3 ms, total: 577 ms\n",
      "Wall time: 406 ms\n"
     ]
    }
   ],
   "source": [
    "%%time\n",
    "results = model.evaluate(X_test, y_test)\n",
    "print(results)"
   ]
  },
  {
   "cell_type": "code",
   "execution_count": 326,
   "metadata": {},
   "outputs": [
    {
     "name": "stdout",
     "output_type": "stream",
     "text": [
      "[ 369 1986 1010 1192 1536 1280 1251]\n"
     ]
    },
    {
     "data": {
      "text/plain": [
       "[(0, 204), (1, 1699), (2, 1290), (3, 1173), (4, 1810), (5, 1307), (6, 1141)]"
      ]
     },
     "execution_count": 326,
     "metadata": {},
     "output_type": "execute_result"
    }
   ],
   "source": [
    "preds = model.predict_classes(X_test)\n",
    "pred_dict = {}\n",
    "for pred in preds:\n",
    "    if pred not in pred_dict:\n",
    "        pred_dict[pred] = 1\n",
    "    else:\n",
    "        pred_dict[pred] += 1\n",
    "print(sum_y)\n",
    "sorted(pred_dict.items())"
   ]
  },
  {
   "cell_type": "code",
   "execution_count": 327,
   "metadata": {},
   "outputs": [
    {
     "data": {
      "text/plain": [
       "array([[1.8060207e-05, 6.4969063e-06, 1.4563501e-03, ..., 1.5748441e-03,\n",
       "        8.8816881e-04, 2.8312206e-06],\n",
       "       [4.4703484e-05, 1.4606118e-04, 2.4601817e-04, ..., 3.6120415e-05,\n",
       "        6.7949295e-05, 4.2617321e-05],\n",
       "       [2.0205975e-05, 1.8227100e-04, 1.5071034e-04, ..., 8.4728003e-05,\n",
       "        9.4443560e-05, 2.7477741e-05],\n",
       "       ...,\n",
       "       [1.6975999e-03, 3.7491918e-03, 3.5467744e-04, ..., 1.7881393e-07,\n",
       "        0.0000000e+00, 9.4548529e-01],\n",
       "       [1.4901161e-07, 9.9873549e-01, 0.0000000e+00, ..., 0.0000000e+00,\n",
       "        0.0000000e+00, 6.1094761e-06],\n",
       "       [3.0815601e-05, 2.3841858e-06, 1.5702844e-04, ..., 2.5415421e-04,\n",
       "        1.5534461e-02, 7.7486038e-07]], dtype=float32)"
      ]
     },
     "execution_count": 327,
     "metadata": {},
     "output_type": "execute_result"
    }
   ],
   "source": [
    "preds = model.predict(X_test)\n",
    "preds"
   ]
  },
  {
   "cell_type": "code",
   "execution_count": 328,
   "metadata": {},
   "outputs": [
    {
     "data": {
      "text/plain": [
       "dict_keys(['loss', 'acc', 'val_loss', 'val_acc'])"
      ]
     },
     "execution_count": 328,
     "metadata": {},
     "output_type": "execute_result"
    }
   ],
   "source": [
    "history_dict = history.history\n",
    "history_dict.keys()"
   ]
  },
  {
   "cell_type": "markdown",
   "metadata": {},
   "source": [
    "### Graphiques du *loss* et de l'*accuracy* en fonction des *epochs*"
   ]
  },
  {
   "cell_type": "code",
   "execution_count": 329,
   "metadata": {},
   "outputs": [],
   "source": [
    "acc = history_dict['acc']\n",
    "val_acc = history_dict['val_acc']\n",
    "loss = history_dict['loss']\n",
    "val_loss = history_dict['val_loss']\n",
    "epochs = range(1, len(acc)+1)"
   ]
  },
  {
   "cell_type": "code",
   "execution_count": 330,
   "metadata": {},
   "outputs": [
    {
     "data": {
      "image/png": "[encoded data removed]",
      "text/plain": [
       "<Figure size 460.8x403.2 with 1 Axes>"
      ]
     },
     "metadata": {},
     "output_type": "display_data"
    }
   ],
   "source": [
    "plt.plot(epochs, loss, 'bo', label='Training loss')\n",
    "plt.plot(epochs, val_loss, 'b', label='Validation loss')\n",
    "plt.title('Training and validation loss')\n",
    "plt.xlabel('Epochs')\n",
    "plt.ylabel('Loss')\n",
    "plt.legend()\n",
    "\n",
    "plt.show()"
   ]
  },
  {
   "cell_type": "code",
   "execution_count": 331,
   "metadata": {},
   "outputs": [
    {
     "data": {
      "image/png": "[encoded data removed]",
      "text/plain": [
       "<Figure size 460.8x403.2 with 1 Axes>"
      ]
     },
     "metadata": {},
     "output_type": "display_data"
    }
   ],
   "source": [
    "plt.clf()\n",
    "\n",
    "plt.plot(epochs, acc, 'bo', label='Training acc')\n",
    "plt.plot(epochs, val_acc, 'b', label='Validation acc')\n",
    "plt.title('Training and validation acc')\n",
    "plt.xlabel('Epochs')\n",
    "plt.ylabel('Accuracy')\n",
    "plt.legend()\n",
    "\n",
    "plt.show()"
   ]
  },
  {
   "cell_type": "markdown",
   "metadata": {},
   "source": [
    "## 5. Deep learning avec SVD comme input"
   ]
  },
  {
   "cell_type": "code",
   "execution_count": 206,
   "metadata": {},
   "outputs": [],
   "source": [
    "LATENT_FACTORS = 1000\n",
    "svd = TruncatedSVD(n_components=LATENT_FACTORS, algorithm='randomized', n_iter=100)\n",
    "svd.fit(IDF_data)\n",
    "SVD_data = svd.transform(IDF_data)"
   ]
  },
  {
   "cell_type": "code",
   "execution_count": 207,
   "metadata": {},
   "outputs": [],
   "source": [
    "X_train, X_test, y_train, y_test = train_test_split(SVD_data, y_data, test_size=0.3, random_state=32)"
   ]
  },
  {
   "cell_type": "code",
   "execution_count": 208,
   "metadata": {},
   "outputs": [],
   "source": [
    "partial_x_train, x_validation, partial_y_train, y_validation = train_test_split(X_train, y_train, test_size=0.3, random_state=32)"
   ]
  },
  {
   "cell_type": "code",
   "execution_count": 222,
   "metadata": {},
   "outputs": [
    {
     "name": "stdout",
     "output_type": "stream",
     "text": [
      "Model: \"sequential_31\"\n",
      "_________________________________________________________________\n",
      "Layer (type)                 Output Shape              Param #   \n",
      "=================================================================\n",
      "flatten_24 (Flatten)         (None, 1000)              0         \n",
      "_________________________________________________________________\n",
      "dense_73 (Dense)             (None, 16)                16016     \n",
      "_________________________________________________________________\n",
      "dense_74 (Dense)             (None, 16)                272       \n",
      "_________________________________________________________________\n",
      "dense_75 (Dense)             (None, 7)                 119       \n",
      "=================================================================\n",
      "Total params: 16,407\n",
      "Trainable params: 16,407\n",
      "Non-trainable params: 0\n",
      "_________________________________________________________________\n"
     ]
    }
   ],
   "source": [
    "model = keras.Sequential()\n",
    "model.add(keras.layers.Flatten(input_shape=(LATENT_FACTORS,)))\n",
    "model.add(keras.layers.Dense(16, activation=tf.nn.relu))\n",
    "model.add(keras.layers.Dense(16, activation=tf.nn.relu))\n",
    "model.add(keras.layers.Dense(7, activation=tf.nn.sigmoid))\n",
    "model.summary()"
   ]
  },
  {
   "cell_type": "code",
   "execution_count": 223,
   "metadata": {},
   "outputs": [
    {
     "name": "stdout",
     "output_type": "stream",
     "text": [
      "Train on 14084 samples, validate on 6037 samples\n",
      "Epoch 1/7\n",
      "14084/14084 [==============================] - 5s 370us/sample - loss: 1.6078 - acc: 0.3918 - val_loss: 1.2753 - val_acc: 0.5493\n",
      "Epoch 2/7\n",
      "14084/14084 [==============================] - 4s 298us/sample - loss: 1.1352 - acc: 0.5990 - val_loss: 1.1590 - val_acc: 0.5995\n",
      "Epoch 3/7\n",
      "14084/14084 [==============================] - 4s 304us/sample - loss: 1.0331 - acc: 0.6372 - val_loss: 1.1428 - val_acc: 0.6102\n",
      "Epoch 4/7\n",
      "14084/14084 [==============================] - 4s 292us/sample - loss: 0.9916 - acc: 0.6521 - val_loss: 1.1474 - val_acc: 0.6087\n",
      "Epoch 5/7\n",
      "14084/14084 [==============================] - 4s 309us/sample - loss: 0.9662 - acc: 0.6628 - val_loss: 1.1518 - val_acc: 0.6140\n",
      "Epoch 6/7\n",
      "14084/14084 [==============================] - 4s 306us/sample - loss: 0.9456 - acc: 0.6686 - val_loss: 1.1423 - val_acc: 0.6193\n",
      "Epoch 7/7\n",
      "14084/14084 [==============================] - 4s 298us/sample - loss: 0.9229 - acc: 0.6774 - val_loss: 1.1454 - val_acc: 0.6149\n",
      "CPU times: user 44.9 s, sys: 4.73 s, total: 49.6 s\n",
      "Wall time: 32 s\n"
     ]
    }
   ],
   "source": [
    "%%time\n",
    "model.compile(optimizer='adam',\n",
    "             loss='categorical_crossentropy',\n",
    "             metrics=['acc'])\n",
    "\n",
    "history = model.fit(partial_x_train,\n",
    "                   partial_y_train,\n",
    "                   epochs=7,\n",
    "                   batch_size=8,\n",
    "                   validation_data=(x_validation, y_validation),\n",
    "                   verbose=1)"
   ]
  },
  {
   "cell_type": "code",
   "execution_count": 224,
   "metadata": {},
   "outputs": [
    {
     "name": "stdout",
     "output_type": "stream",
     "text": [
      "8624/8624 [==============================] - 0s 41us/sample - loss: 1.1492 - acc: 0.6046\n",
      "[1.149224175592964, 0.60459185]\n",
      "CPU times: user 434 ms, sys: 16.9 ms, total: 451 ms\n",
      "Wall time: 363 ms\n"
     ]
    }
   ],
   "source": [
    "%%time\n",
    "results = model.evaluate(X_test, y_test)\n",
    "print(results)"
   ]
  },
  {
   "cell_type": "code",
   "execution_count": 212,
   "metadata": {},
   "outputs": [
    {
     "name": "stdout",
     "output_type": "stream",
     "text": [
      "[ 369 1986 1010 1192 1536 1280 1251]\n"
     ]
    },
    {
     "data": {
      "text/plain": [
       "[(0, 528), (1, 2325), (2, 740), (3, 1042), (4, 1293), (5, 1397), (6, 1299)]"
      ]
     },
     "execution_count": 212,
     "metadata": {},
     "output_type": "execute_result"
    }
   ],
   "source": [
    "preds = model.predict_classes(X_test)\n",
    "pred_dict = {}\n",
    "for pred in preds:\n",
    "    if pred not in pred_dict:\n",
    "        pred_dict[pred] = 1\n",
    "    else:\n",
    "        pred_dict[pred] += 1\n",
    "print(sum_y)\n",
    "sorted(pred_dict.items())"
   ]
  },
  {
   "cell_type": "code",
   "execution_count": 213,
   "metadata": {},
   "outputs": [],
   "source": [
    "history_dict = history.history\n",
    "acc = history_dict['acc']\n",
    "val_acc = history_dict['val_acc']\n",
    "loss = history_dict['loss']\n",
    "val_loss = history_dict['val_loss']\n",
    "epochs = range(1, len(acc)+1)"
   ]
  },
  {
   "cell_type": "code",
   "execution_count": 214,
   "metadata": {},
   "outputs": [
    {
     "data": {
      "image/png": "[encoded data removed]",
      "text/plain": [
       "<Figure size 460.8x403.2 with 1 Axes>"
      ]
     },
     "metadata": {},
     "output_type": "display_data"
    }
   ],
   "source": [
    "plt.plot(epochs, loss, 'bo', label='Training loss')\n",
    "plt.plot(epochs, val_loss, 'b', label='Validation loss')\n",
    "plt.title('Training and validation loss')\n",
    "plt.xlabel('Epochs')\n",
    "plt.ylabel('Loss')\n",
    "plt.legend()\n",
    "\n",
    "plt.show()"
   ]
  },
  {
   "cell_type": "code",
   "execution_count": 215,
   "metadata": {},
   "outputs": [
    {
     "data": {
      "image/png": "[encoded data removed]",
      "text/plain": [
       "<Figure size 460.8x403.2 with 1 Axes>"
      ]
     },
     "metadata": {},
     "output_type": "display_data"
    }
   ],
   "source": [
    "plt.clf()\n",
    "\n",
    "plt.plot(epochs, acc, 'bo', label='Training acc')\n",
    "plt.plot(epochs, val_acc, 'b', label='Validation acc')\n",
    "plt.title('Training and validation acc')\n",
    "plt.xlabel('Epochs')\n",
    "plt.ylabel('Accuracy')\n",
    "plt.legend()\n",
    "\n",
    "plt.show()"
   ]
  },
  {
   "cell_type": "markdown",
   "metadata": {},
   "source": [
    "### Deuxième essai de modèle\n",
    "D'autres modèles ont également été testé, ceci est simplement pour laisser une trace du genre de changements faits dans l'architecture du modèle."
   ]
  },
  {
   "cell_type": "code",
   "execution_count": 235,
   "metadata": {},
   "outputs": [
    {
     "name": "stdout",
     "output_type": "stream",
     "text": [
      "Model: \"sequential_34\"\n",
      "_________________________________________________________________\n",
      "Layer (type)                 Output Shape              Param #   \n",
      "=================================================================\n",
      "flatten_27 (Flatten)         (None, 1000)              0         \n",
      "_________________________________________________________________\n",
      "dense_80 (Dense)             (None, 12)                12012     \n",
      "_________________________________________________________________\n",
      "dense_81 (Dense)             (None, 7)                 91        \n",
      "=================================================================\n",
      "Total params: 12,103\n",
      "Trainable params: 12,103\n",
      "Non-trainable params: 0\n",
      "_________________________________________________________________\n"
     ]
    }
   ],
   "source": [
    "model = keras.Sequential()\n",
    "model.add(keras.layers.Flatten(input_shape=(LATENT_FACTORS,)))\n",
    "model.add(keras.layers.Dense(12, activation=tf.nn.relu))\n",
    "model.add(keras.layers.Dense(7, activation=tf.nn.sigmoid))\n",
    "model.summary()"
   ]
  },
  {
   "cell_type": "code",
   "execution_count": 236,
   "metadata": {},
   "outputs": [
    {
     "name": "stdout",
     "output_type": "stream",
     "text": [
      "Train on 14084 samples, validate on 6037 samples\n",
      "Epoch 1/7\n",
      "14084/14084 [==============================] - 3s 221us/sample - loss: 1.8448 - acc: 0.2340 - val_loss: 1.7433 - val_acc: 0.2407\n",
      "Epoch 2/7\n",
      "14084/14084 [==============================] - 2s 169us/sample - loss: 1.5348 - acc: 0.4622 - val_loss: 1.3536 - val_acc: 0.5642\n",
      "Epoch 3/7\n",
      "14084/14084 [==============================] - 2s 154us/sample - loss: 1.2058 - acc: 0.6082 - val_loss: 1.1981 - val_acc: 0.6039\n",
      "Epoch 4/7\n",
      "14084/14084 [==============================] - 2s 160us/sample - loss: 1.0733 - acc: 0.6470 - val_loss: 1.1343 - val_acc: 0.6142\n",
      "Epoch 5/7\n",
      "14084/14084 [==============================] - 2s 163us/sample - loss: 0.9999 - acc: 0.6693 - val_loss: 1.1038 - val_acc: 0.6235\n",
      "Epoch 6/7\n",
      "14084/14084 [==============================] - 2s 174us/sample - loss: 0.9519 - acc: 0.6835 - val_loss: 1.0874 - val_acc: 0.6281\n",
      "Epoch 7/7\n",
      "14084/14084 [==============================] - 2s 166us/sample - loss: 0.9169 - acc: 0.6894 - val_loss: 1.0850 - val_acc: 0.6314\n",
      "CPU times: user 25 s, sys: 2.85 s, total: 27.8 s\n",
      "Wall time: 18.4 s\n"
     ]
    }
   ],
   "source": [
    "%%time\n",
    "model.compile(optimizer='adam',\n",
    "             loss='categorical_crossentropy',\n",
    "             metrics=['acc'])\n",
    "\n",
    "history = model.fit(partial_x_train,\n",
    "                   partial_y_train,\n",
    "                   epochs=7,\n",
    "                   batch_size=16,\n",
    "                   validation_data=(x_validation, y_validation),\n",
    "                   verbose=1)"
   ]
  },
  {
   "cell_type": "code",
   "execution_count": 231,
   "metadata": {},
   "outputs": [
    {
     "name": "stdout",
     "output_type": "stream",
     "text": [
      "8624/8624 [==============================] - 0s 39us/sample - loss: 1.1003 - acc: 0.6224\n",
      "[1.1002905205140971, 0.622449]\n",
      "CPU times: user 395 ms, sys: 19.5 ms, total: 415 ms\n",
      "Wall time: 343 ms\n"
     ]
    }
   ],
   "source": [
    "%%time\n",
    "results = model.evaluate(X_test, y_test)\n",
    "print(results)"
   ]
  },
  {
   "cell_type": "code",
   "execution_count": 232,
   "metadata": {},
   "outputs": [],
   "source": [
    "history_dict = history.history\n",
    "acc = history_dict['acc']\n",
    "val_acc = history_dict['val_acc']\n",
    "loss = history_dict['loss']\n",
    "val_loss = history_dict['val_loss']\n",
    "epochs = range(1, len(acc)+1)"
   ]
  },
  {
   "cell_type": "code",
   "execution_count": 233,
   "metadata": {},
   "outputs": [
    {
     "data": {
      "image/png": "[encoded data removed]",
      "text/plain": [
       "<Figure size 460.8x403.2 with 1 Axes>"
      ]
     },
     "metadata": {},
     "output_type": "display_data"
    }
   ],
   "source": [
    "plt.plot(epochs, loss, 'bo', label='Training loss')\n",
    "plt.plot(epochs, val_loss, 'b', label='Validation loss')\n",
    "plt.title('Training and validation loss')\n",
    "plt.xlabel('Epochs')\n",
    "plt.ylabel('Loss')\n",
    "plt.legend()\n",
    "\n",
    "plt.show()"
   ]
  },
  {
   "cell_type": "code",
   "execution_count": 234,
   "metadata": {},
   "outputs": [
    {
     "data": {
      "image/png": "[encoded data removed]",
      "text/plain": [
       "<Figure size 460.8x403.2 with 1 Axes>"
      ]
     },
     "metadata": {},
     "output_type": "display_data"
    }
   ],
   "source": [
    "plt.clf()\n",
    "\n",
    "plt.plot(epochs, acc, 'bo', label='Training acc')\n",
    "plt.plot(epochs, val_acc, 'b', label='Validation acc')\n",
    "plt.title('Training and validation acc')\n",
    "plt.xlabel('Epochs')\n",
    "plt.ylabel('Accuracy')\n",
    "plt.legend()\n",
    "\n",
    "plt.show()"
   ]
  },
  {
   "cell_type": "markdown",
   "metadata": {},
   "source": [
    "## 6. Étude du nombre de facteurs latents"
   ]
  },
  {
   "cell_type": "code",
   "execution_count": 155,
   "metadata": {},
   "outputs": [],
   "source": [
    "factors = [10, 50, 100, 500, 1000]"
   ]
  },
  {
   "cell_type": "code",
   "execution_count": 157,
   "metadata": {},
   "outputs": [
    {
     "name": "stdout",
     "output_type": "stream",
     "text": [
      "8624/8624 [==============================] - 0s 25us/sample - loss: 1.7266 - acc: 0.3298\n",
      "8624/8624 [==============================] - 0s 23us/sample - loss: 1.5191 - acc: 0.4416\n",
      "8624/8624 [==============================] - 0s 25us/sample - loss: 1.4452 - acc: 0.4782\n",
      "8624/8624 [==============================] - 0s 27us/sample - loss: 1.1770 - acc: 0.5910\n",
      "8624/8624 [==============================] - 0s 28us/sample - loss: 1.0987 - acc: 0.6177\n"
     ]
    }
   ],
   "source": [
    "accs = []\n",
    "for N_FACT in factors:\n",
    "    svd = TruncatedSVD(n_components=N_FACT, algorithm='randomized', n_iter=100)\n",
    "    svd.fit(IDF_data)\n",
    "    SVD_data = svd.transform(IDF_data)\n",
    "    \n",
    "    X_train, X_test, y_train, y_test = train_test_split(SVD_data, y_data, test_size=0.3, random_state=32)\n",
    "    partial_x_train, x_validation, partial_y_train, y_validation = train_test_split(X_train, y_train, test_size=0.3, random_state=32)\n",
    "    \n",
    "    model = keras.Sequential()\n",
    "    model.add(keras.layers.Flatten(input_shape=(N_FACT,)))\n",
    "    model.add(keras.layers.Dense(16, activation=tf.nn.relu))\n",
    "    model.add(keras.layers.Dense(16, activation=tf.nn.relu))\n",
    "    model.add(keras.layers.Dense(7, activation=tf.nn.sigmoid))\n",
    "    \n",
    "    model.compile(optimizer='adam',\n",
    "             loss='categorical_crossentropy',\n",
    "             metrics=['acc'])\n",
    "\n",
    "    history = model.fit(partial_x_train,\n",
    "                       partial_y_train,\n",
    "                       epochs=15,\n",
    "                       batch_size=128,\n",
    "                       validation_data=(x_validation, y_validation),\n",
    "                       verbose=0)\n",
    "    results = model.evaluate(X_test, y_test)\n",
    "    accs.append(results[1])"
   ]
  },
  {
   "cell_type": "code",
   "execution_count": 158,
   "metadata": {},
   "outputs": [
    {
     "data": {
      "text/plain": [
       "[0.32977736, 0.44155845, 0.47820038, 0.59102505, 0.6176948]"
      ]
     },
     "execution_count": 158,
     "metadata": {},
     "output_type": "execute_result"
    }
   ],
   "source": [
    "accs"
   ]
  },
  {
   "cell_type": "code",
   "execution_count": 169,
   "metadata": {},
   "outputs": [],
   "source": [
    "accs_nn = [0.32977736, 0.44155845, 0.47820038, 0.59102505, 0.6176948]"
   ]
  },
  {
   "cell_type": "code",
   "execution_count": 170,
   "metadata": {},
   "outputs": [
    {
     "data": {
      "image/png": "[encoded data removed]",
      "text/plain": [
       "<Figure size 460.8x403.2 with 1 Axes>"
      ]
     },
     "metadata": {},
     "output_type": "display_data"
    }
   ],
   "source": [
    "plt.clf()\n",
    "\n",
    "plt.plot(factors, accs_nn, 'b', label='Accuracy')\n",
    "plt.title('NN Accuracy in Relation to Latent Factors')\n",
    "plt.xlabel('Factors')\n",
    "plt.ylabel('Accuracy')\n",
    "plt.legend()\n",
    "\n",
    "plt.show()"
   ]
  },
  {
   "cell_type": "code",
   "execution_count": 166,
   "metadata": {},
   "outputs": [
    {
     "name": "stdout",
     "output_type": "stream",
     "text": [
      "0.22205473098330242\n",
      "0.274234693877551\n",
      "0.2764378478664193\n",
      "0.3022959183673469\n",
      "0.2897727272727273\n"
     ]
    }
   ],
   "source": [
    "accs = []\n",
    "for N_FACT in factors:\n",
    "    svd = TruncatedSVD(n_components=N_FACT, algorithm='randomized', n_iter=100)\n",
    "    svd.fit(IDF_data)\n",
    "    SVD_data = svd.transform(IDF_data)\n",
    "    \n",
    "    X_train, X_test, y_train, y_test = train_test_split(SVD_data, y_data, test_size=0.3, random_state=32)\n",
    "    \n",
    "    knn_classifier = KNeighborsClassifier(n_neighbors=1)\n",
    "    knn_classifier.fit(X_train, y_train)\n",
    "    y_pred = knn_classifier.predict(X_test)\n",
    "    acc = accuracy_score(y_test, y_pred)\n",
    "    print(acc)\n",
    "    accs.append(acc)"
   ]
  },
  {
   "cell_type": "code",
   "execution_count": 171,
   "metadata": {},
   "outputs": [
    {
     "data": {
      "image/png": "[encoded data removed]",
      "text/plain": [
       "<Figure size 460.8x403.2 with 1 Axes>"
      ]
     },
     "metadata": {},
     "output_type": "display_data"
    }
   ],
   "source": [
    "plt.clf()\n",
    "\n",
    "plt.plot(factors, accs, 'b', label='Accuracy')\n",
    "plt.title('KNN Accuracy in Relation to Latent Factors')\n",
    "plt.xlabel('Factors')\n",
    "plt.ylabel('Accuracy')\n",
    "plt.legend()\n",
    "\n",
    "plt.show()"
   ]
  }
 ],
 "metadata": {
  "kernelspec": {
   "display_name": "Python 3",
   "language": "python",
   "name": "python3"
  },
  "language_info": {
   "codemirror_mode": {
    "name": "ipython",
    "version": 3
   },
   "file_extension": ".py",
   "mimetype": "text/x-python",
   "name": "python",
   "nbconvert_exporter": "python",
   "pygments_lexer": "ipython3",
   "version": "3.7.4"
  }
 },
 "nbformat": 4,
 "nbformat_minor": 2
}
